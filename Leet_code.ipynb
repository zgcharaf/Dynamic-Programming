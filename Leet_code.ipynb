{
  "nbformat": 4,
  "nbformat_minor": 0,
  "metadata": {
    "colab": {
      "provenance": []
    },
    "kernelspec": {
      "name": "python3",
      "display_name": "Python 3"
    },
    "language_info": {
      "name": "python"
    }
  },
  "cells": [
    {
      "cell_type": "markdown",
      "source": [],
      "metadata": {
        "id": "Yht6ZrAWVbSf"
      }
    },
    {
      "cell_type": "markdown",
      "source": [
        "# Prime numbers under n"
      ],
      "metadata": {
        "id": "vkcxzhGgVbN4"
      }
    },
    {
      "cell_type": "code",
      "source": [
        "#prime numbers\n",
        "def countPrimes(n:int) -> int :\n",
        "  if n < 3 :\n",
        "    return 0\n",
        "  sieve  = [True] * n\n",
        "  print(sieve)\n",
        "  sieve[0] = sieve[1] = False\n",
        "  for i in range(2, int(n**0.5)+ 1):\n",
        "    print(int(n**0.5)+ 1)\n",
        "    print(sieve)\n",
        "    #print(i)\n",
        "    if sieve[i]:\n",
        "      for j in range(i*i, n, i):\n",
        "        sieve[j] = False\n",
        "\n",
        "  return sum(sieve)\n",
        "\n",
        "countPrimes(10)"
      ],
      "metadata": {
        "colab": {
          "base_uri": "https://localhost:8080/"
        },
        "id": "n8Sa-NS7JnK7",
        "outputId": "8b82449e-5ce0-4692-c316-e9b92054bbfd"
      },
      "execution_count": null,
      "outputs": [
        {
          "output_type": "stream",
          "name": "stdout",
          "text": [
            "[True, True, True, True, True, True, True, True, True, True]\n",
            "4\n",
            "[False, False, True, True, True, True, True, True, True, True]\n",
            "4\n",
            "[False, False, True, True, False, True, False, True, False, True]\n"
          ]
        },
        {
          "output_type": "execute_result",
          "data": {
            "text/plain": [
              "4"
            ]
          },
          "metadata": {},
          "execution_count": 15
        }
      ]
    },
    {
      "cell_type": "markdown",
      "source": [
        "# Repeating decimals\n",
        "\n",
        "Check if denom is 0\n",
        "Check if numerator is 0\n",
        "Check if the numerator or denominator is negative\n",
        "\n",
        "Trick : Figure out every new numerator\n"
      ],
      "metadata": {
        "id": "nyhTIhUMROgg"
      }
    },
    {
      "cell_type": "code",
      "source": [
        "from ast import Break\n",
        "def rep(n,d):\n",
        "  if d == 0:\n",
        "    return 'Undefined'\n",
        "  if n == 0:\n",
        "    return '0'\n",
        "  if n * d <0:\n",
        "    neg = True\n",
        "  if n % d == 0:\n",
        "    return str(n/d)\n",
        "  num, den = abs(n), abs(d)\n",
        "  output = \"\"\n",
        "  output += str(num//den)\n",
        "  output +=\".\"\n",
        "\n",
        "  num_q = []\n",
        "\n",
        "  index = 0\n",
        "  while True:\n",
        "    rem = num % den\n",
        "    if (rem==0):\n",
        "        for element in num_q :\n",
        "          output+= str(element[-1])\n",
        "        break\n",
        "    num = rem * 10\n",
        "    q = num // den\n",
        "\n",
        "    index+=1\n",
        "    print(num_q)\n",
        "    if [num,q] not in num_q:\n",
        "      num_q.append([num,q])\n",
        "\n",
        "    elif [num,q] in num_q:\n",
        "      ind = num_q.index([num,q])\n",
        "      print(num_q[:ind])\n",
        "      for element in num_q[:ind]:\n",
        "        output+= str(element[-1])\n",
        "      print(num_q[ind:])\n",
        "      output+='('\n",
        "      for element in num_q[ind:]:\n",
        "        output+= str(element[-1])\n",
        "      output+= ')'\n",
        "      break\n",
        "  return output\n",
        "\n",
        "rep(1,7)"
      ],
      "metadata": {
        "colab": {
          "base_uri": "https://localhost:8080/",
          "height": 192
        },
        "id": "UAomlVZkOUUo",
        "outputId": "d7738a03-e2c3-4667-f1a6-2796fb81976c"
      },
      "execution_count": null,
      "outputs": [
        {
          "output_type": "stream",
          "name": "stdout",
          "text": [
            "[]\n",
            "[[10, 1]]\n",
            "[[10, 1], [30, 4]]\n",
            "[[10, 1], [30, 4], [20, 2]]\n",
            "[[10, 1], [30, 4], [20, 2], [60, 8]]\n",
            "[[10, 1], [30, 4], [20, 2], [60, 8], [40, 5]]\n",
            "[[10, 1], [30, 4], [20, 2], [60, 8], [40, 5], [50, 7]]\n",
            "[]\n",
            "[[10, 1], [30, 4], [20, 2], [60, 8], [40, 5], [50, 7]]\n"
          ]
        },
        {
          "output_type": "execute_result",
          "data": {
            "text/plain": [
              "'0.(142857)'"
            ],
            "application/vnd.google.colaboratory.intrinsic+json": {
              "type": "string"
            }
          },
          "metadata": {},
          "execution_count": 59
        }
      ]
    },
    {
      "cell_type": "markdown",
      "source": [
        "# Fibonacci problem"
      ],
      "metadata": {
        "id": "46Z2yX7weiDF"
      }
    },
    {
      "cell_type": "code",
      "source": [
        "memo = {}\n",
        "def fib(n):\n",
        "\n",
        "  if n in memo:\n",
        "    return memo[n]\n",
        "\n",
        "  if (n <3):\n",
        "    result = 1\n",
        "\n",
        "  else :\n",
        "\n",
        "    result = fib(n - 1) + fib(n - 2)\n",
        "\n",
        "  memo[n] = result\n",
        "\n",
        "  return result\n",
        "\n",
        "fib(100)\n"
      ],
      "metadata": {
        "colab": {
          "base_uri": "https://localhost:8080/"
        },
        "id": "_HiNWcW0OxxW",
        "outputId": "d652cb96-b83a-4b46-bac9-4e3e656f0485"
      },
      "execution_count": null,
      "outputs": [
        {
          "output_type": "execute_result",
          "data": {
            "text/plain": [
              "354224848179261915075"
            ]
          },
          "metadata": {},
          "execution_count": 73
        }
      ]
    },
    {
      "cell_type": "code",
      "source": [
        "def fib(n):\n",
        "\n",
        "  memo ={}\n",
        "  for i in range(1, n+1):\n",
        "\n",
        "    if i <= 2:\n",
        "      result =1\n",
        "    else:\n",
        "      result = memo[i-1] + memo[i -2]\n",
        "\n",
        "    memo[i] = result\n",
        "  return result\n",
        "\n",
        "fib(100)"
      ],
      "metadata": {
        "colab": {
          "base_uri": "https://localhost:8080/"
        },
        "id": "vwjVECyufhtd",
        "outputId": "b743c5b1-b950-4a4a-877f-21a2f8b3525e"
      },
      "execution_count": null,
      "outputs": [
        {
          "output_type": "execute_result",
          "data": {
            "text/plain": [
              "354224848179261915075"
            ]
          },
          "metadata": {},
          "execution_count": 70
        }
      ]
    },
    {
      "cell_type": "markdown",
      "source": [
        "\n",
        "# Coin problems\n",
        "Given an amount m and a number of coins C(i) with amounts C(i) = K(i), what is the minimum number of coins that form the sum m?\n",
        "\n",
        "Use an Acronym: SMC (Sieve, Memorize, Choose)\n",
        "Create a simple acronym to help remember the key parts of the approach:\n",
        "\n",
        "Sieve: Filter through each possible coin.\n",
        "Memorize: Remember the number of coins needed for each smaller amount.\n",
        "Choose: Select the minimum number of coins required."
      ],
      "metadata": {
        "id": "hIRuiJdwhToh"
      }
    },
    {
      "cell_type": "code",
      "source": [
        "def min_ignore_none(a,b):\n",
        "  if a is None:\n",
        "    return b\n",
        "  if b is None :\n",
        "    return a\n",
        "  return min(a,b)\n",
        "def minimum_coins(m, coins: list) -> int :\n",
        "  memo = {}\n",
        "  memo[0] = 0\n",
        "  for i in range(1, m+1):\n",
        "    print(memo)\n",
        "    for coin in coins :\n",
        "      subproblem = i  - coin\n",
        "      print(subproblem)\n",
        "\n",
        "      if subproblem < 0 :\n",
        "        continue\n",
        "\n",
        "      memo[i] = min_ignore_none(memo.get(i), memo.get(subproblem)+1)\n",
        "\n",
        "  return memo[m]\n",
        "\n",
        "minimum_coins(10, [1,2,3])"
      ],
      "metadata": {
        "colab": {
          "base_uri": "https://localhost:8080/"
        },
        "id": "Vs3MMFi3jHgj",
        "outputId": "11ce6551-1ece-4582-c99f-51f4fb0b0986"
      },
      "execution_count": 1,
      "outputs": [
        {
          "output_type": "stream",
          "name": "stdout",
          "text": [
            "{0: 0}\n",
            "0\n",
            "-1\n",
            "-2\n",
            "{0: 0, 1: 1}\n",
            "1\n",
            "0\n",
            "-1\n",
            "{0: 0, 1: 1, 2: 1}\n",
            "2\n",
            "1\n",
            "0\n",
            "{0: 0, 1: 1, 2: 1, 3: 1}\n",
            "3\n",
            "2\n",
            "1\n",
            "{0: 0, 1: 1, 2: 1, 3: 1, 4: 2}\n",
            "4\n",
            "3\n",
            "2\n",
            "{0: 0, 1: 1, 2: 1, 3: 1, 4: 2, 5: 2}\n",
            "5\n",
            "4\n",
            "3\n",
            "{0: 0, 1: 1, 2: 1, 3: 1, 4: 2, 5: 2, 6: 2}\n",
            "6\n",
            "5\n",
            "4\n",
            "{0: 0, 1: 1, 2: 1, 3: 1, 4: 2, 5: 2, 6: 2, 7: 3}\n",
            "7\n",
            "6\n",
            "5\n",
            "{0: 0, 1: 1, 2: 1, 3: 1, 4: 2, 5: 2, 6: 2, 7: 3, 8: 3}\n",
            "8\n",
            "7\n",
            "6\n",
            "{0: 0, 1: 1, 2: 1, 3: 1, 4: 2, 5: 2, 6: 2, 7: 3, 8: 3, 9: 3}\n",
            "9\n",
            "8\n",
            "7\n"
          ]
        },
        {
          "output_type": "execute_result",
          "data": {
            "text/plain": [
              "4"
            ]
          },
          "metadata": {},
          "execution_count": 1
        }
      ]
    },
    {
      "cell_type": "markdown",
      "source": [
        "# Trapping Rain Water\n"
      ],
      "metadata": {
        "id": "zVSe3n6Wyv_x"
      }
    },
    {
      "cell_type": "code",
      "source": [
        "inputs = [0,1,0,2, 1,0,1,3,2,2,1,2,1]"
      ],
      "metadata": {
        "id": "0fkgQkIz5UVD"
      },
      "execution_count": null,
      "outputs": []
    },
    {
      "cell_type": "code",
      "source": [
        "reads an element different than 0\n",
        "keeps going so long as the next element is equal or less\n",
        "stops once it hits a higher block than the first one"
      ],
      "metadata": {
        "colab": {
          "base_uri": "https://localhost:8080/"
        },
        "id": "pRaUyIedhQhG",
        "outputId": "a7e69bf4-3012-4d0c-c448-2ed8c9f05f8f"
      },
      "execution_count": null,
      "outputs": [
        {
          "output_type": "execute_result",
          "data": {
            "text/plain": [
              "3"
            ]
          },
          "metadata": {},
          "execution_count": 100
        }
      ]
    },
    {
      "cell_type": "code",
      "source": [
        "def trap(height: list[int]) -> int:\n",
        "  if not height :\n",
        "    return 0\n",
        "\n",
        "  l, r = 0, len(height) - 1\n",
        "  leftmax, rightmax = height[l], height[r]\n",
        "  res = 0\n",
        "  while(l < r):\n",
        "    if leftmax < rightmax:\n",
        "      l += 1\n",
        "      leftmax = max(leftmax, height[l])\n",
        "      res += leftmax - height[l]\n",
        "    else :\n",
        "      r -= 1\n",
        "      rightmax = max(rightmax, height[r])\n",
        "      res+= rightmax - height[r]\n",
        "  return res\n",
        "\n",
        "inputs = [2,0,3,0,1]\n",
        "trap(inputs)"
      ],
      "metadata": {
        "colab": {
          "base_uri": "https://localhost:8080/"
        },
        "id": "qfXzCpFylCoI",
        "outputId": "66163589-9638-4f9b-d67b-a139291299ff"
      },
      "execution_count": null,
      "outputs": [
        {
          "output_type": "execute_result",
          "data": {
            "text/plain": [
              "3"
            ]
          },
          "metadata": {},
          "execution_count": 35
        }
      ]
    },
    {
      "cell_type": "markdown",
      "source": [
        "# Random walk"
      ],
      "metadata": {
        "id": "xZlhiGshVTnC"
      }
    },
    {
      "cell_type": "code",
      "source": [
        "import random\n",
        "\n",
        "def randomwalk(steps: int, p: float) -> list[int]:\n",
        "    res = [0]  # Start at 0\n",
        "    for i in range(steps):\n",
        "        # Choose to step +1 or -1 based on the probability p\n",
        "        step = random.choices([-1,0,1], weights=[1/3,1/3, 1/3])[0]\n",
        "        res.append(res[-1] + step)\n",
        "    return res\n",
        "\n",
        "# Example usage\n",
        "walk = randomwalk(10, 0.51)  # This will be a fair random walk\n",
        "print(walk)\n",
        "\n",
        "\n"
      ],
      "metadata": {
        "colab": {
          "base_uri": "https://localhost:8080/"
        },
        "id": "vFXPkrgmrZ6b",
        "outputId": "d8479785-67dd-49cb-e73f-e751de0a007b"
      },
      "execution_count": null,
      "outputs": [
        {
          "output_type": "stream",
          "name": "stdout",
          "text": [
            "[0, 1, 2, 3, 3, 2, 2, 3, 4, 4, 5]\n"
          ]
        }
      ]
    }
  ]
}